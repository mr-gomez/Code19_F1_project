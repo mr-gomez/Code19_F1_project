{
 "cells": [
  {
   "cell_type": "code",
   "execution_count": 1,
   "metadata": {},
   "outputs": [],
   "source": [
    "%run Functions.ipynb"
   ]
  },
  {
   "cell_type": "markdown",
   "metadata": {},
   "source": [
    "# Fill in missing values\n",
    "Last time, we saw that comparing lap time differences is meaningful. We also fixed the problem with missing laps. Instead of filling in those laps each time we need them, we will do it once and save it on csv files.\n",
    "\n",
    "We shouldn't need to run this file again, since we already have the files."
   ]
  },
  {
   "cell_type": "code",
   "execution_count": 3,
   "metadata": {},
   "outputs": [],
   "source": [
    "# Get the 2018 races' ids\n",
    "df_races = pd.read_csv(\"f1db_csv/races.csv\")\n",
    "df_results = pd.read_csv(\"f1db_csv/results.csv\")\n",
    "\n",
    "races18 = (df_races >> mask(X.year==2018)).raceId.values"
   ]
  },
  {
   "cell_type": "markdown",
   "metadata": {},
   "source": [
    "We now go to each race and determine which drivers did not finish the race.\n",
    "\n",
    "The status.csv file contains codes that describe if the driver finished the race, and if not, why. The most important codes for us are 1 (finished) and 11 thru 19 (+1 lap, +2 laps, ..., +9 laps). We will not touch drivers with code 1. We will use using fill_laps_behind for codes 11 to 19, and fill_laps for the others (this contains the penalties)."
   ]
  },
  {
   "cell_type": "code",
   "execution_count": 4,
   "metadata": {},
   "outputs": [],
   "source": [
    "def fill_missing_laps(method=slowest_time, finishers_only=False):\n",
    "    FilledLapTimes = lap_times.copy()\n",
    "    for race in races18:\n",
    "        # We filter the drivers that did not finish\n",
    "        race_results = (df_results >>\n",
    "                        mask(X.raceId==race, X.statusId != 1) >>\n",
    "                        select(X.driverId, X.statusId))\n",
    "\n",
    "        # If there are no entries, all the drivers finished the race\n",
    "        if(race_results.size==0):\n",
    "            continue\n",
    "\n",
    "        # Otherwise...\n",
    "        drivers_dnf = race_results.driverId.values\n",
    "        status = race_results.statusId.values\n",
    "\n",
    "        n = len(drivers_dnf)\n",
    "\n",
    "        # We populate each driver's lap times\n",
    "        for i in range(n):\n",
    "            driver = drivers_dnf[i]\n",
    "            s = int(status[i])\n",
    "\n",
    "            # If the status is between 11 and 19, we fill laps behind\n",
    "            if(11 <= s <= 19):\n",
    "                FilledLapTimes = fill_laps_behind(FilledLapTimes, race, driver)\n",
    "            # If not, we penalize\n",
    "            # We also have a flag to indicate if we want to fill in for DNF'd drivers\n",
    "            elif(not finishers_only):\n",
    "                FilledLapTimes = fill_laps(FilledLapTimes, race, driver, method=method)\n",
    "    \n",
    "    # Sort the data frame as we need laps in increasing order (and nice looking df's are always good)\n",
    "    FilledLapTimes = (FilledLapTimes >>\n",
    "                      arrange(X.raceId, X.driverId, X.lap))\n",
    "    \n",
    "    return(FilledLapTimes)"
   ]
  },
  {
   "cell_type": "markdown",
   "metadata": {},
   "source": [
    "## Fill in lap times with DNF's"
   ]
  },
  {
   "cell_type": "code",
   "execution_count": 25,
   "metadata": {},
   "outputs": [
    {
     "name": "stdout",
     "output_type": "stream",
     "text": [
      "(25280, 6)\n"
     ]
    }
   ],
   "source": [
    "SlowestLapTimes = fill_missing_laps(method=slowest_time)\n",
    "print(SlowestLapTimes.shape)"
   ]
  },
  {
   "cell_type": "code",
   "execution_count": 4,
   "metadata": {},
   "outputs": [],
   "source": [
    "# This kept crashing, but we still have to fix the same_position function.\n",
    "# PositionLapTimes= fill_missing_laps(method=same_position)\n",
    "# print(PositionLapTimes.shape)"
   ]
  },
  {
   "cell_type": "code",
   "execution_count": 27,
   "metadata": {},
   "outputs": [
    {
     "name": "stdout",
     "output_type": "stream",
     "text": [
      "(25280, 6)\n"
     ]
    }
   ],
   "source": [
    "AverageLapTimes = fill_missing_laps(method=average_time)\n",
    "print(AverageLapTimes.shape)"
   ]
  },
  {
   "cell_type": "markdown",
   "metadata": {},
   "source": [
    "Write the new databases to csv files!"
   ]
  },
  {
   "cell_type": "code",
   "execution_count": 28,
   "metadata": {},
   "outputs": [],
   "source": [
    "SlowestLapTimes.to_csv(\"f1db_csv/SlowestLapTimes.csv\")\n",
    "AverageLapTimes.to_csv(\"f1db_csv/AverageLapTimes.csv\")"
   ]
  },
  {
   "cell_type": "markdown",
   "metadata": {},
   "source": [
    "## Fill in lap times only for the drivers that finished\n",
    "Including those that were more than one lap behind."
   ]
  },
  {
   "cell_type": "code",
   "execution_count": 5,
   "metadata": {},
   "outputs": [],
   "source": [
    "FinishersLapTimes = fill_missing_laps(finishers_only=True)\n",
    "FinishersLapTimes.to_csv(\"f1db_csv/FinishersLapTimes.csv\")"
   ]
  },
  {
   "cell_type": "code",
   "execution_count": null,
   "metadata": {},
   "outputs": [],
   "source": []
  }
 ],
 "metadata": {
  "kernelspec": {
   "display_name": "Python 3",
   "language": "python",
   "name": "python3"
  },
  "language_info": {
   "codemirror_mode": {
    "name": "ipython",
    "version": 3
   },
   "file_extension": ".py",
   "mimetype": "text/x-python",
   "name": "python",
   "nbconvert_exporter": "python",
   "pygments_lexer": "ipython3",
   "version": "3.5.3"
  }
 },
 "nbformat": 4,
 "nbformat_minor": 2
}
