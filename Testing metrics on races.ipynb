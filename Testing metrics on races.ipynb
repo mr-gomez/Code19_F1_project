{
 "cells": [
  {
   "cell_type": "code",
   "execution_count": 4,
   "metadata": {
    "collapsed": true
   },
   "outputs": [
    {
     "data": {
      "text/plain": [
       "<Figure size 640x480 with 1 Axes>"
      ]
     },
     "metadata": {},
     "output_type": "display_data"
    },
    {
     "name": "stderr",
     "output_type": "stream",
     "text": [
      "Lap_time_differences.ipynb:8: ClusterWarning: scipy.cluster: The symmetric non-negative hollow observation matrix looks suspiciously like an uncondensed distance matrix\n",
      "  \"source\": [\n",
      "Lap_time_differences.ipynb:3: ClusterWarning: scipy.cluster: The symmetric non-negative hollow observation matrix looks suspiciously like an uncondensed distance matrix\n",
      "  {\n",
      "Lap_time_differences.ipynb:7: ClusterWarning: scipy.cluster: The symmetric non-negative hollow observation matrix looks suspiciously like an uncondensed distance matrix\n",
      "  \"outputs\": [],\n"
     ]
    },
    {
     "name": "stdout",
     "output_type": "stream",
     "text": [
      "Expected:   125584\n",
      "Calculated: 125584\n",
      "Expected:   108016\n",
      "Calculated: 108016\n",
      "Expected:   207671\n",
      "Calculated: 207671\n",
      "Expected:   124389\n",
      "Calculated: 124389\n",
      "Expected:   110162.0\n",
      "Calculated: 110162\n"
     ]
    }
   ],
   "source": [
    "%run Lap_time_differences.ipynb"
   ]
  },
  {
   "cell_type": "markdown",
   "metadata": {},
   "source": [
    "# Testing metrics on individual races\n",
    "Now that we decided on a penalty for DNF's, we should fill in missing data and compare how the metric behaves.\n",
    "\n",
    "## Fill in missing data"
   ]
  },
  {
   "cell_type": "code",
   "execution_count": 12,
   "metadata": {},
   "outputs": [],
   "source": [
    "# Get the 2018 races' ids\n",
    "df_races = pd.read_csv(\"f1db_csv/races.csv\")\n",
    "df_results = pd.read_csv(\"f1db_csv/results.csv\")\n",
    "\n",
    "races18 = (df_races >> mask(X.year==2018)).raceId.values"
   ]
  },
  {
   "cell_type": "markdown",
   "metadata": {},
   "source": [
    "We now go to each race and determine which drivers did not finish the race.\n",
    "\n",
    "The status.csv file contains codes that describe if the driver finished the race, and if not, why. The most important codes for us are 1 (finished) and 11 thru 19 (+1 lap, +2 laps, ..., +9 laps). We will not touch drivers with code 1. We will use using fill_laps_behind for codes 11 to 19, and fill_laps for the others (this contains the penalties)."
   ]
  },
  {
   "cell_type": "code",
   "execution_count": 30,
   "metadata": {},
   "outputs": [],
   "source": [
    "def fill_missing_laps(method=slowest_time):\n",
    "    FilledLapTimes = lap_times.copy()\n",
    "    for race in races18:\n",
    "        # We filter the drivers that did not finish\n",
    "        race_results = (df_results >>\n",
    "                        mask(X.raceId==race, X.statusId != 1) >>\n",
    "                        select(X.driverId, X.statusId))\n",
    "\n",
    "        # If there are no entries, all the drivers finished the race\n",
    "        if(race_results.size==0):\n",
    "            continue\n",
    "\n",
    "        # Otherwise...\n",
    "        drivers_dnf = race_results.driverId.values\n",
    "        status = race_results.statusId.values\n",
    "\n",
    "        n = len(drivers_dnf)\n",
    "\n",
    "        # We populate each driver's lap times\n",
    "        for i in range(n):\n",
    "            driver = drivers_dnf[i]\n",
    "            s = int(status[i])\n",
    "\n",
    "            # If the status is between 11 and 19, we fill laps behind\n",
    "            if(11 <= s <= 19):\n",
    "                FilledLapTimes = fill_laps_behind(FilledLapTimes, race, driver)\n",
    "            # If not, we penalize\n",
    "            else:\n",
    "                FilledLapTimes = fill_laps(FilledLapTimes, race, driver, method=method)\n",
    "    \n",
    "    # Sort the data frame as we need laps in increasing order (and nice looking df's are always good)\n",
    "    FilledLapTimes = (FilledLapTimes >>\n",
    "                      arrange(X.raceId, X.driverId, X.lap))\n",
    "    \n",
    "    return(FilledLapTimes)"
   ]
  },
  {
   "cell_type": "code",
   "execution_count": 31,
   "metadata": {
    "collapsed": true
   },
   "outputs": [
    {
     "ename": "IndexError",
     "evalue": "index 0 is out of bounds for axis 0 with size 0",
     "output_type": "error",
     "traceback": [
      "\u001b[0;31m---------------------------------------------------------------------------\u001b[0m",
      "\u001b[0;31mIndexError\u001b[0m                                Traceback (most recent call last)",
      "\u001b[0;32m<ipython-input-31-4308e63b4b49>\u001b[0m in \u001b[0;36m<module>\u001b[0;34m\u001b[0m\n\u001b[1;32m      1\u001b[0m \u001b[0mSlowestLapTimes\u001b[0m \u001b[0;34m=\u001b[0m \u001b[0mfill_missing_laps\u001b[0m\u001b[0;34m(\u001b[0m\u001b[0mmethod\u001b[0m\u001b[0;34m=\u001b[0m\u001b[0mslowest_time\u001b[0m\u001b[0;34m)\u001b[0m\u001b[0;34m\u001b[0m\u001b[0;34m\u001b[0m\u001b[0m\n\u001b[0;32m----> 2\u001b[0;31m \u001b[0mPositionLapTimes\u001b[0m\u001b[0;34m=\u001b[0m \u001b[0mfill_missing_laps\u001b[0m\u001b[0;34m(\u001b[0m\u001b[0mmethod\u001b[0m\u001b[0;34m=\u001b[0m\u001b[0msame_position\u001b[0m\u001b[0;34m)\u001b[0m\u001b[0;34m\u001b[0m\u001b[0;34m\u001b[0m\u001b[0m\n\u001b[0m\u001b[1;32m      3\u001b[0m \u001b[0mAverageLapTimes\u001b[0m \u001b[0;34m=\u001b[0m \u001b[0mfill_missing_laps\u001b[0m\u001b[0;34m(\u001b[0m\u001b[0mmethod\u001b[0m\u001b[0;34m=\u001b[0m\u001b[0maverage_time\u001b[0m\u001b[0;34m)\u001b[0m\u001b[0;34m\u001b[0m\u001b[0;34m\u001b[0m\u001b[0m\n",
      "\u001b[0;32m<ipython-input-30-76461c4aacd1>\u001b[0m in \u001b[0;36mfill_missing_laps\u001b[0;34m(method)\u001b[0m\n\u001b[1;32m     27\u001b[0m             \u001b[0;31m# If not, we penalize\u001b[0m\u001b[0;34m\u001b[0m\u001b[0;34m\u001b[0m\u001b[0;34m\u001b[0m\u001b[0m\n\u001b[1;32m     28\u001b[0m             \u001b[0;32melse\u001b[0m\u001b[0;34m:\u001b[0m\u001b[0;34m\u001b[0m\u001b[0;34m\u001b[0m\u001b[0m\n\u001b[0;32m---> 29\u001b[0;31m                 \u001b[0mFilledLapTimes\u001b[0m \u001b[0;34m=\u001b[0m \u001b[0mfill_laps\u001b[0m\u001b[0;34m(\u001b[0m\u001b[0mFilledLapTimes\u001b[0m\u001b[0;34m,\u001b[0m \u001b[0mrace\u001b[0m\u001b[0;34m,\u001b[0m \u001b[0mdriver\u001b[0m\u001b[0;34m,\u001b[0m \u001b[0mmethod\u001b[0m\u001b[0;34m=\u001b[0m\u001b[0mmethod\u001b[0m\u001b[0;34m)\u001b[0m\u001b[0;34m\u001b[0m\u001b[0;34m\u001b[0m\u001b[0m\n\u001b[0m\u001b[1;32m     30\u001b[0m \u001b[0;34m\u001b[0m\u001b[0m\n\u001b[1;32m     31\u001b[0m     \u001b[0;31m# Sort the data frame as we need laps in increasing order (and nice looking df's are always good)\u001b[0m\u001b[0;34m\u001b[0m\u001b[0;34m\u001b[0m\u001b[0;34m\u001b[0m\u001b[0m\n",
      "\u001b[0;32m<ipython-input-4-9da839acd1b2>\u001b[0m in \u001b[0;36mfill_laps\u001b[0;34m(data, race, driver, method)\u001b[0m\n\u001b[1;32m     31\u001b[0m     \u001b[0mnew_data\u001b[0m \u001b[0;34m=\u001b[0m \u001b[0mdata\u001b[0m\u001b[0;34m.\u001b[0m\u001b[0mcopy\u001b[0m\u001b[0;34m(\u001b[0m\u001b[0;34m)\u001b[0m\u001b[0;34m\u001b[0m\u001b[0;34m\u001b[0m\u001b[0m\n\u001b[1;32m     32\u001b[0m     \u001b[0;32mfor\u001b[0m \u001b[0mlap_index\u001b[0m \u001b[0;32min\u001b[0m \u001b[0mrange\u001b[0m\u001b[0;34m(\u001b[0m\u001b[0mdriver_laps\u001b[0m\u001b[0;34m+\u001b[0m\u001b[0;36m1\u001b[0m\u001b[0;34m,\u001b[0m \u001b[0mnum_laps\u001b[0m\u001b[0;34m+\u001b[0m\u001b[0;36m1\u001b[0m\u001b[0;34m)\u001b[0m\u001b[0;34m:\u001b[0m\u001b[0;34m\u001b[0m\u001b[0;34m\u001b[0m\u001b[0m\n\u001b[0;32m---> 33\u001b[0;31m         \u001b[0mfiller_time\u001b[0m \u001b[0;34m=\u001b[0m \u001b[0mmethod\u001b[0m\u001b[0;34m(\u001b[0m\u001b[0mdata\u001b[0m\u001b[0;34m,\u001b[0m \u001b[0mrace\u001b[0m\u001b[0;34m,\u001b[0m \u001b[0mdriver\u001b[0m\u001b[0;34m,\u001b[0m \u001b[0mlap_index\u001b[0m\u001b[0;34m)\u001b[0m\u001b[0;34m\u001b[0m\u001b[0;34m\u001b[0m\u001b[0m\n\u001b[0m\u001b[1;32m     34\u001b[0m \u001b[0;34m\u001b[0m\u001b[0m\n\u001b[1;32m     35\u001b[0m         \u001b[0;31m# Update the lap number, time and position\u001b[0m\u001b[0;34m\u001b[0m\u001b[0;34m\u001b[0m\u001b[0;34m\u001b[0m\u001b[0m\n",
      "\u001b[0;32m<ipython-input-4-41dae4ad625e>\u001b[0m in \u001b[0;36msame_position\u001b[0;34m(data, race, driver, lap_index)\u001b[0m\n\u001b[1;32m     25\u001b[0m     \u001b[0;31m# And we pick the lap time of the driver in our driver's last known position\u001b[0m\u001b[0;34m\u001b[0m\u001b[0;34m\u001b[0m\u001b[0;34m\u001b[0m\u001b[0m\n\u001b[1;32m     26\u001b[0m     \u001b[0mposition_df\u001b[0m \u001b[0;34m=\u001b[0m \u001b[0;34m(\u001b[0m\u001b[0mdata\u001b[0m \u001b[0;34m>>\u001b[0m \u001b[0mmask\u001b[0m\u001b[0;34m(\u001b[0m\u001b[0mX\u001b[0m\u001b[0;34m.\u001b[0m\u001b[0mraceId\u001b[0m\u001b[0;34m==\u001b[0m\u001b[0mrace\u001b[0m\u001b[0;34m,\u001b[0m \u001b[0mX\u001b[0m\u001b[0;34m.\u001b[0m\u001b[0mposition\u001b[0m\u001b[0;34m==\u001b[0m\u001b[0mposition\u001b[0m\u001b[0;34m,\u001b[0m \u001b[0mX\u001b[0m\u001b[0;34m.\u001b[0m\u001b[0mlap\u001b[0m\u001b[0;34m==\u001b[0m\u001b[0mlap_index\u001b[0m\u001b[0;34m)\u001b[0m\u001b[0;34m)\u001b[0m\u001b[0;34m\u001b[0m\u001b[0;34m\u001b[0m\u001b[0m\n\u001b[0;32m---> 27\u001b[0;31m     \u001b[0mnew_time\u001b[0m \u001b[0;34m=\u001b[0m \u001b[0mposition_df\u001b[0m\u001b[0;34m.\u001b[0m\u001b[0mmilliseconds\u001b[0m\u001b[0;34m.\u001b[0m\u001b[0mvalues\u001b[0m\u001b[0;34m[\u001b[0m\u001b[0;36m0\u001b[0m\u001b[0;34m]\u001b[0m\u001b[0;34m\u001b[0m\u001b[0;34m\u001b[0m\u001b[0m\n\u001b[0m\u001b[1;32m     28\u001b[0m \u001b[0;34m\u001b[0m\u001b[0m\n\u001b[1;32m     29\u001b[0m     \u001b[0;32mreturn\u001b[0m\u001b[0;34m(\u001b[0m\u001b[0mnew_time\u001b[0m\u001b[0;34m)\u001b[0m\u001b[0;34m\u001b[0m\u001b[0;34m\u001b[0m\u001b[0m\n",
      "\u001b[0;31mIndexError\u001b[0m: index 0 is out of bounds for axis 0 with size 0"
     ]
    }
   ],
   "source": [
    "SlowestLapTimes = fill_missing_laps(method=slowest_time)\n",
    "print(SlowestLapTimes.shape)"
   ]
  },
  {
   "cell_type": "code",
   "execution_count": null,
   "metadata": {},
   "outputs": [],
   "source": [
    "PositionLapTimes= fill_missing_laps(method=same_position)\n",
    "print(PositionLapTimes.shape)"
   ]
  },
  {
   "cell_type": "code",
   "execution_count": null,
   "metadata": {},
   "outputs": [],
   "source": [
    "AverageLapTimes = fill_missing_laps(method=average_time)\n",
    "print(AverageLapTimes.shape)"
   ]
  }
 ],
 "metadata": {
  "kernelspec": {
   "display_name": "Python 3",
   "language": "python",
   "name": "python3"
  },
  "language_info": {
   "codemirror_mode": {
    "name": "ipython",
    "version": 3
   },
   "file_extension": ".py",
   "mimetype": "text/x-python",
   "name": "python",
   "nbconvert_exporter": "python",
   "pygments_lexer": "ipython3",
   "version": "3.7.3"
  }
 },
 "nbformat": 4,
 "nbformat_minor": 2
}
